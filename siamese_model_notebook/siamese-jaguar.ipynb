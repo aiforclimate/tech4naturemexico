{
 "cells": [
  {
   "cell_type": "code",
   "execution_count": 1,
   "id": "42956e1d-f4d8-4612-884f-7a82c692b119",
   "metadata": {},
   "outputs": [
    {
     "name": "stdout",
     "output_type": "stream",
     "text": [
      "Looking in indexes: http://192.168.0.94:8888/repository/pypi/simple\n",
      "Collecting tensorflow==2.3.0\n",
      "  Downloading http://192.168.0.94:8888/repository/pypi/packages/tensorflow/2.3.0/tensorflow-2.3.0-cp37-cp37m-manylinux2010_x86_64.whl (320.4 MB)\n",
      "\u001b[K     |████████████████████████████████| 320.4 MB 120.6 MB/s eta 0:00:01     |█████████████████████████████▏  | 292.1 MB 120.6 MB/s eta 0:00:01\n",
      "\u001b[?25hRequirement already satisfied: opt-einsum>=2.3.2 in /home/ma-user/anaconda3/envs/TensorFlow-2.1/lib/python3.7/site-packages (from tensorflow==2.3.0) (3.3.0)\n",
      "Collecting astunparse==1.6.3\n",
      "  Downloading http://192.168.0.94:8888/repository/pypi/packages/astunparse/1.6.3/astunparse-1.6.3-py2.py3-none-any.whl (12 kB)\n",
      "Requirement already satisfied: keras-preprocessing<1.2,>=1.1.1 in /home/ma-user/anaconda3/envs/TensorFlow-2.1/lib/python3.7/site-packages (from tensorflow==2.3.0) (1.1.2)\n",
      "Requirement already satisfied: termcolor>=1.1.0 in /home/ma-user/anaconda3/envs/TensorFlow-2.1/lib/python3.7/site-packages (from tensorflow==2.3.0) (2.1.0)\n",
      "Requirement already satisfied: absl-py>=0.7.0 in /home/ma-user/anaconda3/envs/TensorFlow-2.1/lib/python3.7/site-packages (from tensorflow==2.3.0) (1.3.0)\n",
      "Requirement already satisfied: wrapt>=1.11.1 in /home/ma-user/anaconda3/envs/TensorFlow-2.1/lib/python3.7/site-packages (from tensorflow==2.3.0) (1.14.1)\n",
      "Collecting tensorflow-estimator<2.4.0,>=2.3.0\n",
      "  Downloading http://192.168.0.94:8888/repository/pypi/packages/tensorflow-estimator/2.3.0/tensorflow_estimator-2.3.0-py2.py3-none-any.whl (459 kB)\n",
      "\u001b[K     |████████████████████████████████| 459 kB 90.8 MB/s eta 0:00:01\n",
      "\u001b[?25hCollecting tensorboard<3,>=2.3.0\n",
      "  Downloading http://192.168.0.94:8888/repository/pypi/packages/tensorboard/2.11.2/tensorboard-2.11.2-py3-none-any.whl (6.0 MB)\n",
      "\u001b[K     |████████████████████████████████| 6.0 MB 40.7 MB/s eta 0:00:01\n",
      "\u001b[?25hRequirement already satisfied: google-pasta>=0.1.8 in /home/ma-user/anaconda3/envs/TensorFlow-2.1/lib/python3.7/site-packages (from tensorflow==2.3.0) (0.2.0)\n",
      "Collecting scipy==1.4.1\n",
      "  Downloading http://192.168.0.94:8888/repository/pypi/packages/scipy/1.4.1/scipy-1.4.1-cp37-cp37m-manylinux1_x86_64.whl (26.1 MB)\n",
      "\u001b[K     |████████████████████████████████| 26.1 MB 82.5 MB/s eta 0:00:01\n",
      "\u001b[?25hCollecting gast==0.3.3\n",
      "  Downloading http://192.168.0.94:8888/repository/pypi/packages/gast/0.3.3/gast-0.3.3-py2.py3-none-any.whl (9.7 kB)\n",
      "Collecting numpy<1.19.0,>=1.16.0\n",
      "  Downloading http://192.168.0.94:8888/repository/pypi/packages/numpy/1.18.5/numpy-1.18.5-cp37-cp37m-manylinux1_x86_64.whl (20.1 MB)\n",
      "\u001b[K     |████████████████████████████████| 20.1 MB 65.6 MB/s eta 0:00:01\n",
      "\u001b[?25hCollecting h5py<2.11.0,>=2.10.0\n",
      "  Downloading http://192.168.0.94:8888/repository/pypi/packages/h5py/2.10.0/h5py-2.10.0-cp37-cp37m-manylinux1_x86_64.whl (2.9 MB)\n",
      "\u001b[K     |████████████████████████████████| 2.9 MB 98.0 MB/s eta 0:00:01\n",
      "\u001b[?25hRequirement already satisfied: wheel>=0.26 in /home/ma-user/anaconda3/envs/TensorFlow-2.1/lib/python3.7/site-packages (from tensorflow==2.3.0) (0.38.2)\n",
      "Requirement already satisfied: protobuf>=3.9.2 in /home/ma-user/anaconda3/envs/TensorFlow-2.1/lib/python3.7/site-packages (from tensorflow==2.3.0) (3.20.1)\n",
      "Requirement already satisfied: six>=1.12.0 in /home/ma-user/anaconda3/envs/TensorFlow-2.1/lib/python3.7/site-packages (from tensorflow==2.3.0) (1.16.0)\n",
      "Requirement already satisfied: grpcio>=1.8.6 in /home/ma-user/anaconda3/envs/TensorFlow-2.1/lib/python3.7/site-packages (from tensorflow==2.3.0) (1.50.0)\n",
      "Requirement already satisfied: google-auth<3,>=1.6.3 in /home/ma-user/anaconda3/envs/TensorFlow-2.1/lib/python3.7/site-packages (from tensorboard<3,>=2.3.0->tensorflow==2.3.0) (1.35.0)\n",
      "Requirement already satisfied: setuptools>=41.0.0 in /home/ma-user/anaconda3/envs/TensorFlow-2.1/lib/python3.7/site-packages (from tensorboard<3,>=2.3.0->tensorflow==2.3.0) (65.5.1)\n",
      "Requirement already satisfied: markdown>=2.6.8 in /home/ma-user/anaconda3/envs/TensorFlow-2.1/lib/python3.7/site-packages (from tensorboard<3,>=2.3.0->tensorflow==2.3.0) (3.4.1)\n",
      "Requirement already satisfied: google-auth-oauthlib<0.5,>=0.4.1 in /home/ma-user/anaconda3/envs/TensorFlow-2.1/lib/python3.7/site-packages (from tensorboard<3,>=2.3.0->tensorflow==2.3.0) (0.4.6)\n",
      "Collecting tensorboard-plugin-wit>=1.6.0\n",
      "  Downloading http://192.168.0.94:8888/repository/pypi/packages/tensorboard-plugin-wit/1.8.1/tensorboard_plugin_wit-1.8.1-py3-none-any.whl (781 kB)\n",
      "\u001b[K     |████████████████████████████████| 781 kB 84.5 MB/s eta 0:00:01\n",
      "\u001b[?25hRequirement already satisfied: requests<3,>=2.21.0 in /home/ma-user/anaconda3/envs/TensorFlow-2.1/lib/python3.7/site-packages (from tensorboard<3,>=2.3.0->tensorflow==2.3.0) (2.27.1)\n",
      "Requirement already satisfied: werkzeug>=1.0.1 in /home/ma-user/anaconda3/envs/TensorFlow-2.1/lib/python3.7/site-packages (from tensorboard<3,>=2.3.0->tensorflow==2.3.0) (2.2.2)\n",
      "Collecting tensorboard-data-server<0.7.0,>=0.6.0\n",
      "  Downloading http://192.168.0.94:8888/repository/pypi/packages/tensorboard-data-server/0.6.1/tensorboard_data_server-0.6.1-py3-none-manylinux2010_x86_64.whl (4.9 MB)\n",
      "\u001b[K     |████████████████████████████████| 4.9 MB 99.3 MB/s eta 0:00:01\n",
      "\u001b[?25hRequirement already satisfied: cachetools<5.0,>=2.0.0 in /home/ma-user/anaconda3/envs/TensorFlow-2.1/lib/python3.7/site-packages (from google-auth<3,>=1.6.3->tensorboard<3,>=2.3.0->tensorflow==2.3.0) (4.2.4)\n",
      "Requirement already satisfied: pyasn1-modules>=0.2.1 in /home/ma-user/anaconda3/envs/TensorFlow-2.1/lib/python3.7/site-packages (from google-auth<3,>=1.6.3->tensorboard<3,>=2.3.0->tensorflow==2.3.0) (0.2.8)\n",
      "Requirement already satisfied: rsa<5,>=3.1.4 in /home/ma-user/anaconda3/envs/TensorFlow-2.1/lib/python3.7/site-packages (from google-auth<3,>=1.6.3->tensorboard<3,>=2.3.0->tensorflow==2.3.0) (4.9)\n",
      "Requirement already satisfied: requests-oauthlib>=0.7.0 in /home/ma-user/anaconda3/envs/TensorFlow-2.1/lib/python3.7/site-packages (from google-auth-oauthlib<0.5,>=0.4.1->tensorboard<3,>=2.3.0->tensorflow==2.3.0) (1.3.1)\n",
      "Requirement already satisfied: importlib-metadata>=4.4 in /home/ma-user/anaconda3/envs/TensorFlow-2.1/lib/python3.7/site-packages (from markdown>=2.6.8->tensorboard<3,>=2.3.0->tensorflow==2.3.0) (5.0.0)\n",
      "Requirement already satisfied: typing-extensions>=3.6.4 in /home/ma-user/anaconda3/envs/TensorFlow-2.1/lib/python3.7/site-packages (from importlib-metadata>=4.4->markdown>=2.6.8->tensorboard<3,>=2.3.0->tensorflow==2.3.0) (4.4.0)\n",
      "Requirement already satisfied: zipp>=0.5 in /home/ma-user/anaconda3/envs/TensorFlow-2.1/lib/python3.7/site-packages (from importlib-metadata>=4.4->markdown>=2.6.8->tensorboard<3,>=2.3.0->tensorflow==2.3.0) (3.10.0)\n",
      "Requirement already satisfied: pyasn1<0.5.0,>=0.4.6 in /home/ma-user/anaconda3/envs/TensorFlow-2.1/lib/python3.7/site-packages (from pyasn1-modules>=0.2.1->google-auth<3,>=1.6.3->tensorboard<3,>=2.3.0->tensorflow==2.3.0) (0.4.8)\n",
      "Requirement already satisfied: charset-normalizer~=2.0.0 in /home/ma-user/anaconda3/envs/TensorFlow-2.1/lib/python3.7/site-packages (from requests<3,>=2.21.0->tensorboard<3,>=2.3.0->tensorflow==2.3.0) (2.0.12)\n",
      "Requirement already satisfied: urllib3<1.27,>=1.21.1 in /home/ma-user/anaconda3/envs/TensorFlow-2.1/lib/python3.7/site-packages (from requests<3,>=2.21.0->tensorboard<3,>=2.3.0->tensorflow==2.3.0) (1.26.12)\n",
      "Requirement already satisfied: certifi>=2017.4.17 in /home/ma-user/anaconda3/envs/TensorFlow-2.1/lib/python3.7/site-packages (from requests<3,>=2.21.0->tensorboard<3,>=2.3.0->tensorflow==2.3.0) (2022.9.24)\n",
      "Requirement already satisfied: idna<4,>=2.5 in /home/ma-user/anaconda3/envs/TensorFlow-2.1/lib/python3.7/site-packages (from requests<3,>=2.21.0->tensorboard<3,>=2.3.0->tensorflow==2.3.0) (3.4)\n",
      "Requirement already satisfied: oauthlib>=3.0.0 in /home/ma-user/anaconda3/envs/TensorFlow-2.1/lib/python3.7/site-packages (from requests-oauthlib>=0.7.0->google-auth-oauthlib<0.5,>=0.4.1->tensorboard<3,>=2.3.0->tensorflow==2.3.0) (3.2.2)\n",
      "Requirement already satisfied: MarkupSafe>=2.1.1 in /home/ma-user/anaconda3/envs/TensorFlow-2.1/lib/python3.7/site-packages (from werkzeug>=1.0.1->tensorboard<3,>=2.3.0->tensorflow==2.3.0) (2.1.1)\n",
      "Installing collected packages: tensorboard-plugin-wit, tensorboard-data-server, numpy, tensorflow-estimator, tensorboard, scipy, h5py, gast, astunparse, tensorflow\n",
      "  Attempting uninstall: numpy\n",
      "    Found existing installation: numpy 1.19.5\n",
      "    Uninstalling numpy-1.19.5:\n",
      "      Successfully uninstalled numpy-1.19.5\n",
      "  Attempting uninstall: tensorflow-estimator\n",
      "    Found existing installation: tensorflow-estimator 2.1.0\n",
      "    Uninstalling tensorflow-estimator-2.1.0:\n",
      "      Successfully uninstalled tensorflow-estimator-2.1.0\n",
      "  Attempting uninstall: tensorboard\n",
      "    Found existing installation: tensorboard 2.1.1\n",
      "    Uninstalling tensorboard-2.1.1:\n",
      "      Successfully uninstalled tensorboard-2.1.1\n",
      "  Attempting uninstall: scipy\n",
      "    Found existing installation: scipy 1.5.2\n",
      "    Uninstalling scipy-1.5.2:\n",
      "      Successfully uninstalled scipy-1.5.2\n",
      "  Attempting uninstall: h5py\n",
      "    Found existing installation: h5py 3.7.0\n",
      "    Uninstalling h5py-3.7.0:\n",
      "      Successfully uninstalled h5py-3.7.0\n",
      "  Attempting uninstall: gast\n",
      "    Found existing installation: gast 0.2.2\n",
      "    Uninstalling gast-0.2.2:\n",
      "      Successfully uninstalled gast-0.2.2\n",
      "  Attempting uninstall: tensorflow\n",
      "    Found existing installation: tensorflow 2.1.0\n",
      "    Uninstalling tensorflow-2.1.0:\n",
      "      Successfully uninstalled tensorflow-2.1.0\n",
      "\u001b[31mERROR: pip's dependency resolver does not currently take into account all the packages that are installed. This behaviour is the source of the following dependency conflicts.\n",
      "modelarts 1.4.20 requires matplotlib==3.5.2, but you have matplotlib 3.5.1 which is incompatible.\n",
      "modelarts 1.4.20 requires typing-extensions<=4.0.1, but you have typing-extensions 4.4.0 which is incompatible.\n",
      "ma-cau 1.1.3 requires click==8.0.3, but you have click 8.1.3 which is incompatible.\n",
      "ma-cau 1.1.3 requires huaweicloudsdkcore==3.0.50, but you have huaweicloudsdkcore 3.1.48 which is incompatible.\n",
      "ma-cau 1.1.3 requires pandas==1.3.4, but you have pandas 1.1.5 which is incompatible.\n",
      "ma-cau 1.1.3 requires Pillow==9.0.1, but you have pillow 9.3.0 which is incompatible.\n",
      "ma-cau 1.1.3 requires tenacity<=6.1.0, but you have tenacity 8.2.2 which is incompatible.\n",
      "ma-cau 1.1.3 requires tqdm<=4.62.3, but you have tqdm 4.64.1 which is incompatible.\n",
      "ma-cau 1.1.3 requires typing-extensions<=4.0.1, but you have typing-extensions 4.4.0 which is incompatible.\u001b[0m\n",
      "Successfully installed astunparse-1.6.3 gast-0.3.3 h5py-2.10.0 numpy-1.18.5 scipy-1.4.1 tensorboard-2.11.2 tensorboard-data-server-0.6.1 tensorboard-plugin-wit-1.8.1 tensorflow-2.3.0 tensorflow-estimator-2.3.0\n",
      "\u001b[33mWARNING: You are using pip version 21.0.1; however, version 23.2.1 is available.\n",
      "You should consider upgrading via the '/home/ma-user/anaconda3/envs/TensorFlow-2.1/bin/python3.7 -m pip install --upgrade pip' command.\u001b[0m\n"
     ]
    }
   ],
   "source": [
    "!pip install tensorflow==2.3.0"
   ]
  },
  {
   "cell_type": "code",
   "execution_count": null,
   "id": "04d0d796-941e-45f6-ba19-ac49bd3f90a1",
   "metadata": {},
   "outputs": [],
   "source": []
  },
  {
   "cell_type": "code",
   "execution_count": null,
   "id": "7c63f822-02dd-4301-a8c4-1d918c534c5a",
   "metadata": {},
   "outputs": [],
   "source": []
  },
  {
   "cell_type": "code",
   "execution_count": 1,
   "id": "44ff8a1c-8b62-4b3f-9623-ba89986b76c8",
   "metadata": {},
   "outputs": [],
   "source": [
    "%load_ext tensorboard"
   ]
  },
  {
   "cell_type": "code",
   "execution_count": 1,
   "id": "b0b570b7-5305-4caa-b9d3-5e7c75565738",
   "metadata": {},
   "outputs": [
    {
     "name": "stderr",
     "output_type": "stream",
     "text": [
      "2023-09-07 11:48:55.078788: I tensorflow/stream_executor/platform/default/dso_loader.cc:48] Successfully opened dynamic library libcudart.so.10.1\n",
      "/home/ma-user/anaconda3/envs/TensorFlow-2.1/lib/python3.7/site-packages/requests/__init__.py:104: RequestsDependencyWarning: urllib3 (1.26.12) or chardet (5.1.0)/charset_normalizer (2.0.12) doesn't match a supported version!\n",
      "  RequestsDependencyWarning)\n"
     ]
    }
   ],
   "source": [
    "import tensorflow as tf\n",
    "\n",
    "import numpy as np\n",
    "import pandas as pd\n",
    "\n",
    "from tensorflow import keras\n",
    "from tensorflow.keras.models import load_model\n",
    "from tensorflow.keras import layers\n",
    "\n",
    "\n",
    "from tensorflow.keras.models import Model\n",
    "from tensorflow.keras.layers import Input, Flatten, Dense, Dropout, Lambda,UpSampling2D,Conv2D,MaxPooling2D\n",
    "from tensorflow.keras import backend as K\n",
    "from tensorflow.keras.optimizers import RMSprop\n",
    "from tensorflow.keras.utils import plot_model\n",
    "\n",
    "\n",
    "import matplotlib.pyplot as plt\n",
    "import matplotlib.image as mpimg\n",
    "import datetime\n"
   ]
  },
  {
   "cell_type": "code",
   "execution_count": 7,
   "id": "42f68dbd-7409-4caa-860a-3f6111e4b51c",
   "metadata": {},
   "outputs": [],
   "source": []
  },
  {
   "cell_type": "code",
   "execution_count": null,
   "id": "39a53c50-ce89-4cc1-a6a5-0c5fe3dec772",
   "metadata": {},
   "outputs": [],
   "source": []
  },
  {
   "cell_type": "code",
   "execution_count": null,
   "id": "51c83860-5c2a-405c-939e-69c236dcab7e",
   "metadata": {},
   "outputs": [],
   "source": []
  },
  {
   "cell_type": "code",
   "execution_count": 2,
   "id": "f5200654-ff21-4b2c-9449-42919f281093",
   "metadata": {},
   "outputs": [],
   "source": [
    "def identity_loss(y_true, y_pred):\n",
    "    return K.mean(y_pred)\n",
    "\n",
    "def triplet_loss(x, alpha = 0.2):\n",
    "    # Triplet Loss function.\n",
    "    anchor,positive,negative = x\n",
    "    # distance between the anchor and the positive\n",
    "    pos_dist = K.sum(K.square(anchor-positive),axis=1)\n",
    "    # distance between the anchor and the negative\n",
    "    neg_dist = K.sum(K.square(anchor-negative),axis=1)\n",
    "    # compute loss\n",
    "    basic_loss = pos_dist-neg_dist+alpha\n",
    "    loss = K.maximum(basic_loss,0.0)\n",
    "    return loss"
   ]
  },
  {
   "cell_type": "code",
   "execution_count": null,
   "id": "9bc28cd1-7fc0-41a4-9152-015f08f6f5fa",
   "metadata": {},
   "outputs": [],
   "source": []
  },
  {
   "cell_type": "code",
   "execution_count": null,
   "id": "ce889312-9b69-4f23-82f2-ba0311f5afa3",
   "metadata": {},
   "outputs": [],
   "source": []
  },
  {
   "cell_type": "code",
   "execution_count": 3,
   "id": "9a8f0ccc-317a-44ff-94a4-793938ec6f4c",
   "metadata": {},
   "outputs": [],
   "source": [
    "from siamese_embeddings import *"
   ]
  },
  {
   "cell_type": "code",
   "execution_count": null,
   "id": "3054fba7-f617-481d-ad1f-444e63cfcd9d",
   "metadata": {},
   "outputs": [],
   "source": []
  },
  {
   "cell_type": "code",
   "execution_count": 4,
   "id": "023c1a64-8f81-4915-8901-ce1d97b07bf3",
   "metadata": {},
   "outputs": [],
   "source": [
    "\n",
    "# Model structure\n",
    "def initialize_base_branch_vgg16_v2_1024():\n",
    "    #this is the model used to make the embeddings\n",
    "    #the input is 128x128x3\n",
    "    input = Input(shape=(imsize,imsize,3), name=\"base_input\")\n",
    "    \n",
    "    vgg = VGG16(weights=\"imagenet\",\n",
    "            include_top=False,\n",
    "            input_tensor=input)\n",
    "    vgg.trainable = False\n",
    "    # flatten the max-pooling output of VGG\n",
    "    flatten = vgg.output\n",
    "    flatten = Flatten()(flatten)\n",
    "    \n",
    "    #embedding = Dense(2000,activation=\"relu\")(flatten)\n",
    "    #embedding = layers.Dropout(0.3, name=\"f_dropout\")(embedding)\n",
    "    embedding = Dense(2048,activation=\"relu\")(flatten)\n",
    "    embedding = layers.Dropout(0.3, name=\"s_dropout\")(embedding)\n",
    "    embedding = Dense(2048,activation=\"relu\")(embedding)\n",
    "    embedding = layers.Dropout(0.3, name=\"t_dropout\")(embedding)\n",
    "    embedding = Dense(1024, name=\"IMGembedding\")(embedding)\n",
    "\n",
    "\n",
    "    #convolutional feature extractor\n",
    "    # input\n",
    "    #Returning a Model, with input and outputs, not just a group of layers.\n",
    "    return Model(inputs=input, outputs=embedding)"
   ]
  },
  {
   "cell_type": "code",
   "execution_count": null,
   "id": "3cbdfcc1-14dc-4a8e-8e2f-9a7271f2d5bc",
   "metadata": {},
   "outputs": [],
   "source": []
  },
  {
   "cell_type": "code",
   "execution_count": null,
   "id": "6d2ab9cf-cfe4-4420-ac72-c1fdba0d9efb",
   "metadata": {},
   "outputs": [],
   "source": []
  },
  {
   "cell_type": "code",
   "execution_count": null,
   "id": "f84148b9-7ab8-4ceb-80e1-6750b2b7b92a",
   "metadata": {},
   "outputs": [],
   "source": []
  },
  {
   "cell_type": "code",
   "execution_count": null,
   "id": "d5eb62c7-0121-4c4d-b11b-2c8b436630ef",
   "metadata": {},
   "outputs": [],
   "source": []
  },
  {
   "cell_type": "code",
   "execution_count": null,
   "id": "962c2e5a-d58a-4301-9741-b7ec08c37a36",
   "metadata": {},
   "outputs": [],
   "source": []
  },
  {
   "cell_type": "code",
   "execution_count": null,
   "id": "94fbf5fa-d28b-4e3c-a1a2-7f11d8de64e6",
   "metadata": {},
   "outputs": [],
   "source": []
  },
  {
   "cell_type": "code",
   "execution_count": 5,
   "id": "6fda4382-c613-4b8b-95bc-fa9ebcbe51a0",
   "metadata": {},
   "outputs": [
    {
     "name": "stderr",
     "output_type": "stream",
     "text": [
      "2023-09-07 11:49:13.771694: I tensorflow/stream_executor/platform/default/dso_loader.cc:48] Successfully opened dynamic library libcuda.so.1\n",
      "2023-09-07 11:49:13.854421: I tensorflow/stream_executor/cuda/cuda_gpu_executor.cc:982] successful NUMA node read from SysFS had negative value (-1), but there must be at least one NUMA node, so returning NUMA node zero\n",
      "2023-09-07 11:49:13.856335: I tensorflow/core/common_runtime/gpu/gpu_device.cc:1716] Found device 0 with properties: \n",
      "pciBusID: 0000:00:0d.0 name: Tesla V100-PCIE-32GB computeCapability: 7.0\n",
      "coreClock: 1.38GHz coreCount: 80 deviceMemorySize: 31.75GiB deviceMemoryBandwidth: 836.37GiB/s\n",
      "2023-09-07 11:49:13.856364: I tensorflow/stream_executor/platform/default/dso_loader.cc:48] Successfully opened dynamic library libcudart.so.10.1\n",
      "2023-09-07 11:49:13.858300: I tensorflow/stream_executor/platform/default/dso_loader.cc:48] Successfully opened dynamic library libcublas.so.10\n",
      "2023-09-07 11:49:13.859907: I tensorflow/stream_executor/platform/default/dso_loader.cc:48] Successfully opened dynamic library libcufft.so.10\n",
      "2023-09-07 11:49:13.860171: I tensorflow/stream_executor/platform/default/dso_loader.cc:48] Successfully opened dynamic library libcurand.so.10\n",
      "2023-09-07 11:49:13.861893: I tensorflow/stream_executor/platform/default/dso_loader.cc:48] Successfully opened dynamic library libcusolver.so.10\n",
      "2023-09-07 11:49:13.862868: I tensorflow/stream_executor/platform/default/dso_loader.cc:48] Successfully opened dynamic library libcusparse.so.10\n",
      "2023-09-07 11:49:13.866695: I tensorflow/stream_executor/platform/default/dso_loader.cc:48] Successfully opened dynamic library libcudnn.so.7\n",
      "2023-09-07 11:49:13.866825: I tensorflow/stream_executor/cuda/cuda_gpu_executor.cc:982] successful NUMA node read from SysFS had negative value (-1), but there must be at least one NUMA node, so returning NUMA node zero\n",
      "2023-09-07 11:49:13.868737: I tensorflow/stream_executor/cuda/cuda_gpu_executor.cc:982] successful NUMA node read from SysFS had negative value (-1), but there must be at least one NUMA node, so returning NUMA node zero\n",
      "2023-09-07 11:49:13.870553: I tensorflow/core/common_runtime/gpu/gpu_device.cc:1858] Adding visible gpu devices: 0\n",
      "2023-09-07 11:49:13.871099: I tensorflow/core/platform/cpu_feature_guard.cc:142] This TensorFlow binary is optimized with oneAPI Deep Neural Network Library (oneDNN)to use the following CPU instructions in performance-critical operations:  AVX2 AVX512F FMA\n",
      "To enable them in other operations, rebuild TensorFlow with the appropriate compiler flags.\n",
      "2023-09-07 11:49:13.884236: I tensorflow/core/platform/profile_utils/cpu_utils.cc:104] CPU Frequency: 2600000000 Hz\n",
      "2023-09-07 11:49:13.890880: I tensorflow/compiler/xla/service/service.cc:168] XLA service 0x55f3abcdf1c0 initialized for platform Host (this does not guarantee that XLA will be used). Devices:\n",
      "2023-09-07 11:49:13.890904: I tensorflow/compiler/xla/service/service.cc:176]   StreamExecutor device (0): Host, Default Version\n",
      "2023-09-07 11:49:14.031137: I tensorflow/stream_executor/cuda/cuda_gpu_executor.cc:982] successful NUMA node read from SysFS had negative value (-1), but there must be at least one NUMA node, so returning NUMA node zero\n",
      "2023-09-07 11:49:14.033143: I tensorflow/compiler/xla/service/service.cc:168] XLA service 0x55f3abc93f00 initialized for platform CUDA (this does not guarantee that XLA will be used). Devices:\n",
      "2023-09-07 11:49:14.033172: I tensorflow/compiler/xla/service/service.cc:176]   StreamExecutor device (0): Tesla V100-PCIE-32GB, Compute Capability 7.0\n",
      "2023-09-07 11:49:14.033420: I tensorflow/stream_executor/cuda/cuda_gpu_executor.cc:982] successful NUMA node read from SysFS had negative value (-1), but there must be at least one NUMA node, so returning NUMA node zero\n",
      "2023-09-07 11:49:14.035627: I tensorflow/core/common_runtime/gpu/gpu_device.cc:1716] Found device 0 with properties: \n",
      "pciBusID: 0000:00:0d.0 name: Tesla V100-PCIE-32GB computeCapability: 7.0\n",
      "coreClock: 1.38GHz coreCount: 80 deviceMemorySize: 31.75GiB deviceMemoryBandwidth: 836.37GiB/s\n",
      "2023-09-07 11:49:14.035677: I tensorflow/stream_executor/platform/default/dso_loader.cc:48] Successfully opened dynamic library libcudart.so.10.1\n",
      "2023-09-07 11:49:14.035708: I tensorflow/stream_executor/platform/default/dso_loader.cc:48] Successfully opened dynamic library libcublas.so.10\n",
      "2023-09-07 11:49:14.035720: I tensorflow/stream_executor/platform/default/dso_loader.cc:48] Successfully opened dynamic library libcufft.so.10\n",
      "2023-09-07 11:49:14.035729: I tensorflow/stream_executor/platform/default/dso_loader.cc:48] Successfully opened dynamic library libcurand.so.10\n",
      "2023-09-07 11:49:14.035739: I tensorflow/stream_executor/platform/default/dso_loader.cc:48] Successfully opened dynamic library libcusolver.so.10\n",
      "2023-09-07 11:49:14.035748: I tensorflow/stream_executor/platform/default/dso_loader.cc:48] Successfully opened dynamic library libcusparse.so.10\n",
      "2023-09-07 11:49:14.035758: I tensorflow/stream_executor/platform/default/dso_loader.cc:48] Successfully opened dynamic library libcudnn.so.7\n",
      "2023-09-07 11:49:14.035838: I tensorflow/stream_executor/cuda/cuda_gpu_executor.cc:982] successful NUMA node read from SysFS had negative value (-1), but there must be at least one NUMA node, so returning NUMA node zero\n",
      "2023-09-07 11:49:14.037722: I tensorflow/stream_executor/cuda/cuda_gpu_executor.cc:982] successful NUMA node read from SysFS had negative value (-1), but there must be at least one NUMA node, so returning NUMA node zero\n",
      "2023-09-07 11:49:14.039506: I tensorflow/core/common_runtime/gpu/gpu_device.cc:1858] Adding visible gpu devices: 0\n",
      "2023-09-07 11:49:14.039552: I tensorflow/stream_executor/platform/default/dso_loader.cc:48] Successfully opened dynamic library libcudart.so.10.1\n",
      "2023-09-07 11:49:14.494478: I tensorflow/core/common_runtime/gpu/gpu_device.cc:1257] Device interconnect StreamExecutor with strength 1 edge matrix:\n",
      "2023-09-07 11:49:14.494524: I tensorflow/core/common_runtime/gpu/gpu_device.cc:1263]      0 \n",
      "2023-09-07 11:49:14.494532: I tensorflow/core/common_runtime/gpu/gpu_device.cc:1276] 0:   N \n",
      "2023-09-07 11:49:14.494765: I tensorflow/stream_executor/cuda/cuda_gpu_executor.cc:982] successful NUMA node read from SysFS had negative value (-1), but there must be at least one NUMA node, so returning NUMA node zero\n",
      "2023-09-07 11:49:14.496717: I tensorflow/stream_executor/cuda/cuda_gpu_executor.cc:982] successful NUMA node read from SysFS had negative value (-1), but there must be at least one NUMA node, so returning NUMA node zero\n",
      "2023-09-07 11:49:14.498539: I tensorflow/core/common_runtime/gpu/gpu_device.cc:1402] Created TensorFlow device (/job:localhost/replica:0/task:0/device:GPU:0 with 30134 MB memory) -> physical GPU (device: 0, name: Tesla V100-PCIE-32GB, pci bus id: 0000:00:0d.0, compute capability: 7.0)\n"
     ]
    }
   ],
   "source": [
    "imsize = 224\n",
    "base_model = initialize_base_branch_vgg16_latent_space()"
   ]
  },
  {
   "cell_type": "code",
   "execution_count": null,
   "id": "d287fda2-1371-4f88-ac73-66a44dd184d4",
   "metadata": {},
   "outputs": [],
   "source": []
  },
  {
   "cell_type": "code",
   "execution_count": 6,
   "id": "4743394e-d741-46ba-aae3-c511491ce795",
   "metadata": {},
   "outputs": [
    {
     "name": "stdout",
     "output_type": "stream",
     "text": [
      "Model: \"functional_1\"\n",
      "_________________________________________________________________\n",
      "Layer (type)                 Output Shape              Param #   \n",
      "=================================================================\n",
      "base_input (InputLayer)      [(None, 224, 224, 3)]     0         \n",
      "_________________________________________________________________\n",
      "block1_conv1 (Conv2D)        (None, 224, 224, 64)      1792      \n",
      "_________________________________________________________________\n",
      "block1_conv2 (Conv2D)        (None, 224, 224, 64)      36928     \n",
      "_________________________________________________________________\n",
      "block1_pool (MaxPooling2D)   (None, 112, 112, 64)      0         \n",
      "_________________________________________________________________\n",
      "block2_conv1 (Conv2D)        (None, 112, 112, 128)     73856     \n",
      "_________________________________________________________________\n",
      "block2_conv2 (Conv2D)        (None, 112, 112, 128)     147584    \n",
      "_________________________________________________________________\n",
      "block2_pool (MaxPooling2D)   (None, 56, 56, 128)       0         \n",
      "_________________________________________________________________\n",
      "block3_conv1 (Conv2D)        (None, 56, 56, 256)       295168    \n",
      "_________________________________________________________________\n",
      "block3_conv2 (Conv2D)        (None, 56, 56, 256)       590080    \n",
      "_________________________________________________________________\n",
      "block3_conv3 (Conv2D)        (None, 56, 56, 256)       590080    \n",
      "_________________________________________________________________\n",
      "block3_pool (MaxPooling2D)   (None, 28, 28, 256)       0         \n",
      "_________________________________________________________________\n",
      "block4_conv1 (Conv2D)        (None, 28, 28, 512)       1180160   \n",
      "_________________________________________________________________\n",
      "block4_conv2 (Conv2D)        (None, 28, 28, 512)       2359808   \n",
      "_________________________________________________________________\n",
      "block4_conv3 (Conv2D)        (None, 28, 28, 512)       2359808   \n",
      "_________________________________________________________________\n",
      "block4_pool (MaxPooling2D)   (None, 14, 14, 512)       0         \n",
      "_________________________________________________________________\n",
      "block5_conv1 (Conv2D)        (None, 14, 14, 512)       2359808   \n",
      "_________________________________________________________________\n",
      "block5_conv2 (Conv2D)        (None, 14, 14, 512)       2359808   \n",
      "_________________________________________________________________\n",
      "block5_conv3 (Conv2D)        (None, 14, 14, 512)       2359808   \n",
      "_________________________________________________________________\n",
      "block5_pool (MaxPooling2D)   (None, 7, 7, 512)         0         \n",
      "_________________________________________________________________\n",
      "latent (Conv2D)              (None, 7, 7, 512)         2359808   \n",
      "_________________________________________________________________\n",
      "up_sampling2d (UpSampling2D) (None, 14, 14, 512)       0         \n",
      "_________________________________________________________________\n",
      "flatten (Flatten)            (None, 100352)            0         \n",
      "_________________________________________________________________\n",
      "dense (Dense)                (None, 2048)              205522944 \n",
      "_________________________________________________________________\n",
      "s_dropout (Dropout)          (None, 2048)              0         \n",
      "_________________________________________________________________\n",
      "dense_1 (Dense)              (None, 2048)              4196352   \n",
      "_________________________________________________________________\n",
      "t_dropout (Dropout)          (None, 2048)              0         \n",
      "_________________________________________________________________\n",
      "IMGembedding (Dense)         (None, 1024)              2098176   \n",
      "=================================================================\n",
      "Total params: 228,891,968\n",
      "Trainable params: 214,177,280\n",
      "Non-trainable params: 14,714,688\n",
      "_________________________________________________________________\n"
     ]
    }
   ],
   "source": [
    "base_model.summary()"
   ]
  },
  {
   "cell_type": "code",
   "execution_count": 9,
   "id": "a4210d57-f087-4aec-b2e8-9f95a283c7cc",
   "metadata": {},
   "outputs": [
    {
     "data": {
      "text/plain": [
       "4096"
      ]
     },
     "execution_count": 9,
     "metadata": {},
     "output_type": "execute_result"
    }
   ],
   "source": [
    "2**12"
   ]
  },
  {
   "cell_type": "code",
   "execution_count": null,
   "id": "82eac16c-6686-46dd-a39e-81e58991a182",
   "metadata": {},
   "outputs": [],
   "source": []
  },
  {
   "cell_type": "markdown",
   "id": "a8131bb6-2306-4079-b5f3-5431be1c94a9",
   "metadata": {},
   "source": [
    "## Exploring the Model Layers \n",
    "\n",
    "We have a model that use some layers of \n",
    "convolutional operations to extract spatial\n",
    "information from the image. \n",
    "we can"
   ]
  },
  {
   "cell_type": "code",
   "execution_count": 9,
   "id": "b82aeb6b-70fb-40b1-b646-40d283e1a673",
   "metadata": {},
   "outputs": [
    {
     "name": "stdout",
     "output_type": "stream",
     "text": [
      "Model: \"functional_3\"\n",
      "_________________________________________________________________\n",
      "Layer (type)                 Output Shape              Param #   \n",
      "=================================================================\n",
      "base_input (InputLayer)      [(None, 224, 224, 3)]     0         \n",
      "_________________________________________________________________\n",
      "block1_conv1 (Conv2D)        (None, 224, 224, 64)      1792      \n",
      "_________________________________________________________________\n",
      "block1_conv2 (Conv2D)        (None, 224, 224, 64)      36928     \n",
      "_________________________________________________________________\n",
      "block1_pool (MaxPooling2D)   (None, 112, 112, 64)      0         \n",
      "_________________________________________________________________\n",
      "block2_conv1 (Conv2D)        (None, 112, 112, 128)     73856     \n",
      "_________________________________________________________________\n",
      "block2_conv2 (Conv2D)        (None, 112, 112, 128)     147584    \n",
      "_________________________________________________________________\n",
      "block2_pool (MaxPooling2D)   (None, 56, 56, 128)       0         \n",
      "_________________________________________________________________\n",
      "block3_conv1 (Conv2D)        (None, 56, 56, 256)       295168    \n",
      "_________________________________________________________________\n",
      "block3_conv2 (Conv2D)        (None, 56, 56, 256)       590080    \n",
      "_________________________________________________________________\n",
      "block3_conv3 (Conv2D)        (None, 56, 56, 256)       590080    \n",
      "_________________________________________________________________\n",
      "block3_pool (MaxPooling2D)   (None, 28, 28, 256)       0         \n",
      "_________________________________________________________________\n",
      "block4_conv1 (Conv2D)        (None, 28, 28, 512)       1180160   \n",
      "_________________________________________________________________\n",
      "block4_conv2 (Conv2D)        (None, 28, 28, 512)       2359808   \n",
      "=================================================================\n",
      "Total params: 5,275,456\n",
      "Trainable params: 0\n",
      "Non-trainable params: 5,275,456\n",
      "_________________________________________________________________\n",
      "None\n"
     ]
    }
   ],
   "source": [
    "\n",
    "\n",
    "#### Now plot filter outputs\n",
    "\n",
    "#Define a new truncated model to only include the conv layers of interest\n",
    "#conv_layer_index = [1, 3, 6, 8, 11, 13, 15]\n",
    "conv_layer_index = [1, 3,6,9,12]  #TO define a shorter model\n",
    "outputs = [base_model.layers[i].output for i in conv_layer_index]\n",
    "model_short = Model(inputs=base_model.inputs, outputs=outputs)\n",
    "print(model_short.summary())"
   ]
  },
  {
   "cell_type": "code",
   "execution_count": 10,
   "id": "6f1316b2-e691-40e3-95aa-253a64e6b126",
   "metadata": {},
   "outputs": [
    {
     "name": "stderr",
     "output_type": "stream",
     "text": [
      "2023-09-06 11:03:53.087782: I tensorflow/stream_executor/platform/default/dso_loader.cc:48] Successfully opened dynamic library libcudnn.so.7\n",
      "2023-09-06 11:03:54.270343: I tensorflow/stream_executor/platform/default/dso_loader.cc:48] Successfully opened dynamic library libcublas.so.10\n"
     ]
    }
   ],
   "source": [
    "#Input shape to the model is 224 x 224. SO resize input image to this shape.\n",
    "\n",
    "from tensorflow.keras.preprocessing.image import img_to_array\n",
    "from tensorflow.keras.preprocessing.image import load_img\n",
    "\n",
    "img = load_img('jaguar.jpeg', target_size=(224, 224)) #VGG user 224 as input\n",
    "\n",
    "# convert the image to an array\n",
    "img = img_to_array(img)\n",
    "# expand dimensions to match the shape of model input\n",
    "img = np.expand_dims(img, axis=0)\n",
    "\n",
    "# Generate feature output by predicting on the input image\n",
    "feature_output = model_short.predict(img)"
   ]
  },
  {
   "cell_type": "code",
   "execution_count": null,
   "id": "b892ccb9-2903-4718-8349-b99c77b577eb",
   "metadata": {},
   "outputs": [],
   "source": [
    "columns = 8\n",
    "rows = 8\n",
    "i2 = 0\n",
    "for ftr in feature_output:\n",
    "    print(\"One Layer\")\n",
    "    #pos = 1\n",
    "    fig=plt.figure(figsize=(12, 12))\n",
    "    for i in range(1, columns*rows +1):\n",
    "        fig =plt.subplot(rows, columns, i)\n",
    "        fig.set_xticks([])  #Turn off axis\n",
    "        fig.set_yticks([])\n",
    "        plt.imshow(ftr[0, :, :, i-1], cmap='gray')\n",
    "        #pos += 1\n",
    "    plt.savefig(\"layer_\"+str(i2)+\".png\")\n",
    "    plt.show()\n",
    "    i2 += 1\n"
   ]
  },
  {
   "cell_type": "code",
   "execution_count": null,
   "id": "ea3b6d3b-b7c5-4c8d-991b-15ca48303741",
   "metadata": {},
   "outputs": [],
   "source": []
  },
  {
   "cell_type": "code",
   "execution_count": null,
   "id": "f546ae89-96a7-466a-a321-e9470403b608",
   "metadata": {},
   "outputs": [],
   "source": []
  },
  {
   "cell_type": "code",
   "execution_count": null,
   "id": "5c9d294d-dd37-45b8-8b15-2874c4f37a66",
   "metadata": {},
   "outputs": [],
   "source": []
  },
  {
   "cell_type": "code",
   "execution_count": 8,
   "id": "e65c7260-b034-45df-a3ca-0f7d82eed88f",
   "metadata": {},
   "outputs": [],
   "source": [
    "#Input for the left part of the pair. We are going to pass training_pairs[:,0] to his layer.\n",
    "input_a = Input(shape=(imsize,imsize,3), name='anchor_input')\n",
    "#ATENTION!!! base_model is not an function, is model and we are adding our input layer.\n",
    "vect_output_a = base_model(input_a)\n",
    "\n",
    "#Input layer for the right part of the siamse model. Will receive: training_pairs[:,1]\n",
    "input_p = Input(shape=(imsize,imsize,3), name='positive_input')\n",
    "vect_output_p = base_model(input_p)\n",
    "\n",
    "\n",
    "input_n = Input(shape=(imsize,imsize,3), name='negative_input')\n",
    "vect_output_n = base_model(input_n)\n",
    "\n",
    "\n",
    "\n",
    "\n",
    "#The lambda output layer calling the euclidenan distances, will return the difference between both vectors\n",
    "output = Lambda(triplet_loss, name='output_layer')([vect_output_a, vect_output_p,vect_output_n])\n",
    "\n",
    "#Our model have two inputs and one output. Each of the inputs contains the commom model.\n",
    "model = Model([input_a, input_p,input_n], output)"
   ]
  },
  {
   "cell_type": "code",
   "execution_count": null,
   "id": "2c22af61-1e7a-4193-a286-90f0496e6ca0",
   "metadata": {},
   "outputs": [],
   "source": []
  },
  {
   "cell_type": "code",
   "execution_count": null,
   "id": "08a2534f-8f1a-4c0a-a332-f843e951a48c",
   "metadata": {},
   "outputs": [],
   "source": []
  },
  {
   "cell_type": "code",
   "execution_count": null,
   "id": "aae6fdd7-f175-4c8c-babf-eefc6d6b4736",
   "metadata": {},
   "outputs": [],
   "source": []
  },
  {
   "cell_type": "code",
   "execution_count": null,
   "id": "33a4cd0c-e54d-4034-98cc-c371f6a09d3f",
   "metadata": {},
   "outputs": [],
   "source": []
  },
  {
   "cell_type": "code",
   "execution_count": 9,
   "id": "21b84d3b-f6d9-4b9a-aca8-54331ffef6c4",
   "metadata": {},
   "outputs": [
    {
     "name": "stdout",
     "output_type": "stream",
     "text": [
      "Model: \"functional_5\"\n",
      "__________________________________________________________________________________________________\n",
      "Layer (type)                    Output Shape         Param #     Connected to                     \n",
      "==================================================================================================\n",
      "anchor_input (InputLayer)       [(None, 224, 224, 3) 0                                            \n",
      "__________________________________________________________________________________________________\n",
      "positive_input (InputLayer)     [(None, 224, 224, 3) 0                                            \n",
      "__________________________________________________________________________________________________\n",
      "negative_input (InputLayer)     [(None, 224, 224, 3) 0                                            \n",
      "__________________________________________________________________________________________________\n",
      "functional_1 (Functional)       (None, 1024)         228891968   anchor_input[0][0]               \n",
      "                                                                 positive_input[0][0]             \n",
      "                                                                 negative_input[0][0]             \n",
      "__________________________________________________________________________________________________\n",
      "output_layer (Lambda)           (None,)              0           functional_1[3][0]               \n",
      "                                                                 functional_1[4][0]               \n",
      "                                                                 functional_1[5][0]               \n",
      "==================================================================================================\n",
      "Total params: 228,891,968\n",
      "Trainable params: 214,177,280\n",
      "Non-trainable params: 14,714,688\n",
      "__________________________________________________________________________________________________\n"
     ]
    }
   ],
   "source": [
    "model.summary()"
   ]
  },
  {
   "cell_type": "code",
   "execution_count": 10,
   "id": "eb229ebf-6132-42d9-9cb5-a5718ee47ee2",
   "metadata": {},
   "outputs": [],
   "source": [
    "rms = RMSprop()\n",
    "#We use the 'Custom' loss function. And we can pass the margin. I'ts one of the variables\n",
    "#in the formula, and matain the balance between the value asigned when there arfe similarities or not.\n",
    "#with a big value the dissimilarities have more wight than the similarities.\n",
    "#you can try different values, I have the impression that we can increase the values and maybe improve\n",
    "#a little bit the results.\n",
    "#I choose to use an 1. Totally balanced.\n",
    "embedding_dim = 2\n",
    "LR = 0.0001\n",
    "EPOCHS = 5\n",
    "alpha = 0.2\n",
    "\n"
   ]
  },
  {
   "cell_type": "code",
   "execution_count": null,
   "id": "ad064608-6929-4b79-a87d-393d23f50c6c",
   "metadata": {},
   "outputs": [],
   "source": [
    "!pip install scikit-learn\n"
   ]
  },
  {
   "cell_type": "code",
   "execution_count": 11,
   "id": "1e1d61f7-c90d-435d-a364-7048125d85ec",
   "metadata": {},
   "outputs": [],
   "source": [
    "from functions_siamese import *\n",
    "from tensorflow.keras.optimizers import Adam\n"
   ]
  },
  {
   "cell_type": "code",
   "execution_count": 12,
   "id": "77082502-7c54-4f1e-8cac-71790c5bf6d1",
   "metadata": {},
   "outputs": [],
   "source": [
    "# Compile the model\n",
    "model.compile(optimizer=Adam(learning_rate=0.000001),loss=identity_loss)"
   ]
  },
  {
   "cell_type": "code",
   "execution_count": 13,
   "id": "b5640a04-61c6-484b-96e6-9a7c59f6cfac",
   "metadata": {},
   "outputs": [],
   "source": [
    "EPOCHS = 10\n",
    "now = datetime.datetime.now()\n",
    "\n",
    "checkpoint_filepath = 'models/checkpoint_1024_vgg16_latent_space'+datetime.datetime.now().strftime(\"%Y-%m-%d_%H:%M:%S\")\n",
    "model_checkpoint_callback = tf.keras.callbacks.ModelCheckpoint(\n",
    "    filepath=checkpoint_filepath,\n",
    "    save_weights_only=True,\n",
    "    monitor='loss',\n",
    "    mode='max',\n",
    "    save_best_only=True)"
   ]
  },
  {
   "cell_type": "code",
   "execution_count": 14,
   "id": "4592dec6-4734-40b4-ad27-8561e4c9c3dd",
   "metadata": {},
   "outputs": [
    {
     "name": "stderr",
     "output_type": "stream",
     "text": [
      "2023-09-07 11:49:49.149563: I tensorflow/core/profiler/lib/profiler_session.cc:164] Profiler session started.\n",
      "2023-09-07 11:49:49.149643: I tensorflow/core/profiler/internal/gpu/cupti_tracer.cc:1391] Profiler found 1 GPUs\n",
      "2023-09-07 11:49:49.150442: I tensorflow/stream_executor/platform/default/dso_loader.cc:48] Successfully opened dynamic library libcupti.so.10.1\n",
      "2023-09-07 11:49:49.250852: E tensorflow/core/profiler/internal/gpu/cupti_tracer.cc:1441] function cupti_interface_->Subscribe( &subscriber_, (CUpti_CallbackFunc)ApiCallback, this)failed with error CUPTI_ERROR_INSUFFICIENT_PRIVILEGES\n"
     ]
    }
   ],
   "source": [
    "log_dir = \"logs/fit_1024_vgg16_latent_space/\" + datetime.datetime.now().strftime(\"%Y%m%d-%H%M%S\")\n",
    "tensorboard_callback = tf.keras.callbacks.TensorBoard(log_dir=log_dir, histogram_freq=1)\n"
   ]
  },
  {
   "cell_type": "code",
   "execution_count": null,
   "id": "97906bf7-2ddb-448e-a191-4a14bbea630d",
   "metadata": {},
   "outputs": [],
   "source": []
  },
  {
   "cell_type": "code",
   "execution_count": 15,
   "id": "db115460-1612-4e47-a60f-5fb73a85f9b9",
   "metadata": {},
   "outputs": [],
   "source": [
    "train_generator = TripletDataGenerator(csv_file='csvs/big_triplets_no_bg.csv', output_size=(224, 224), shuffle=True, batch_size=64)\n"
   ]
  },
  {
   "cell_type": "code",
   "execution_count": 14,
   "id": "67cf69e8-7270-42d8-bd5a-2efe43fc8c27",
   "metadata": {},
   "outputs": [],
   "source": [
    "import PIL "
   ]
  },
  {
   "cell_type": "code",
   "execution_count": null,
   "id": "c2526cb9-1339-4b4c-8f2f-9cf4b73d0eb8",
   "metadata": {},
   "outputs": [],
   "source": []
  },
  {
   "cell_type": "code",
   "execution_count": null,
   "id": "f928ad30-77b3-4a4c-8077-5461aac79404",
   "metadata": {},
   "outputs": [],
   "source": []
  },
  {
   "cell_type": "code",
   "execution_count": null,
   "id": "ab6dd43c-4ab1-4096-857f-940364d864a3",
   "metadata": {},
   "outputs": [],
   "source": []
  },
  {
   "cell_type": "code",
   "execution_count": null,
   "id": "4fa95134-2a62-4085-a795-c507c3efc805",
   "metadata": {},
   "outputs": [],
   "source": []
  },
  {
   "cell_type": "code",
   "execution_count": null,
   "id": "0241bfa3-9053-49c7-938a-423c333baddb",
   "metadata": {},
   "outputs": [],
   "source": []
  },
  {
   "cell_type": "code",
   "execution_count": null,
   "id": "ee84be8d-ec51-421a-b189-8d426b7ffb3c",
   "metadata": {},
   "outputs": [],
   "source": []
  },
  {
   "cell_type": "code",
   "execution_count": null,
   "id": "6c283f86-e615-4e5e-9ec2-037a6ef3a533",
   "metadata": {},
   "outputs": [],
   "source": []
  },
  {
   "cell_type": "code",
   "execution_count": null,
   "id": "3073abdd-3866-42b4-adae-511587ba9f33",
   "metadata": {},
   "outputs": [],
   "source": []
  },
  {
   "cell_type": "code",
   "execution_count": null,
   "id": "6910dbdb-c84b-41c6-8fd8-35a19c978dfd",
   "metadata": {},
   "outputs": [],
   "source": []
  },
  {
   "cell_type": "code",
   "execution_count": null,
   "id": "87c42ef1-2134-4547-86d8-af3e0d248fdb",
   "metadata": {},
   "outputs": [],
   "source": []
  },
  {
   "cell_type": "code",
   "execution_count": null,
   "id": "ae639b2b-ccc1-4f41-920b-b09009952c6f",
   "metadata": {},
   "outputs": [],
   "source": []
  },
  {
   "cell_type": "code",
   "execution_count": null,
   "id": "cf1da233-0c6c-477a-8401-53fea2f0c8d0",
   "metadata": {},
   "outputs": [],
   "source": []
  },
  {
   "cell_type": "code",
   "execution_count": null,
   "id": "0a857933-920b-4700-9c71-41192d799f35",
   "metadata": {},
   "outputs": [],
   "source": []
  },
  {
   "cell_type": "code",
   "execution_count": 16,
   "id": "0e2a8d4d-b034-4304-99a8-294c242adb78",
   "metadata": {},
   "outputs": [
    {
     "name": "stdout",
     "output_type": "stream",
     "text": [
      "Epoch 1/100\n"
     ]
    },
    {
     "name": "stderr",
     "output_type": "stream",
     "text": [
      "2023-09-07 11:50:10.379917: I tensorflow/stream_executor/platform/default/dso_loader.cc:48] Successfully opened dynamic library libcublas.so.10\n",
      "2023-09-07 11:50:10.720921: I tensorflow/stream_executor/platform/default/dso_loader.cc:48] Successfully opened dynamic library libcudnn.so.7\n"
     ]
    },
    {
     "name": "stdout",
     "output_type": "stream",
     "text": [
      " 1/20 [>.............................] - ETA: 0s - loss: 8850.0938"
     ]
    },
    {
     "name": "stderr",
     "output_type": "stream",
     "text": [
      "2023-09-07 11:50:14.356973: I tensorflow/core/profiler/lib/profiler_session.cc:164] Profiler session started.\n",
      "2023-09-07 11:50:14.359118: E tensorflow/core/profiler/internal/gpu/cupti_tracer.cc:1441] function cupti_interface_->Subscribe( &subscriber_, (CUpti_CallbackFunc)ApiCallback, this)failed with error CUPTI_ERROR_INSUFFICIENT_PRIVILEGES\n"
     ]
    },
    {
     "name": "stdout",
     "output_type": "stream",
     "text": [
      "WARNING:tensorflow:From /home/ma-user/anaconda3/envs/TensorFlow-2.1/lib/python3.7/site-packages/tensorflow/python/ops/summary_ops_v2.py:1277: stop (from tensorflow.python.eager.profiler) is deprecated and will be removed after 2020-07-01.\n",
      "Instructions for updating:\n",
      "use `tf.profiler.experimental.stop` instead.\n",
      " 2/20 [==>...........................] - ETA: 3s - loss: 7836.8765"
     ]
    },
    {
     "name": "stderr",
     "output_type": "stream",
     "text": [
      "2023-09-07 11:50:14.625818: I tensorflow/core/profiler/internal/gpu/device_tracer.cc:223]  GpuTracer has collected 0 callback api events and 0 activity events. \n",
      "2023-09-07 11:50:14.637975: I tensorflow/core/profiler/rpc/client/save_profile.cc:176] Creating directory: logs/fit_1024_vgg16_latent_space/20230907-114949/train/plugins/profile/2023_09_07_11_50_14\n",
      "2023-09-07 11:50:14.643500: I tensorflow/core/profiler/rpc/client/save_profile.cc:182] Dumped gzipped tool data for trace.json.gz to logs/fit_1024_vgg16_latent_space/20230907-114949/train/plugins/profile/2023_09_07_11_50_14/notebook-2589b5e6-3114-42ae-978c-b0dbae0dbf96.trace.json.gz\n",
      "2023-09-07 11:50:14.656036: I tensorflow/core/profiler/rpc/client/save_profile.cc:176] Creating directory: logs/fit_1024_vgg16_latent_space/20230907-114949/train/plugins/profile/2023_09_07_11_50_14\n",
      "2023-09-07 11:50:14.663397: I tensorflow/core/profiler/rpc/client/save_profile.cc:182] Dumped gzipped tool data for memory_profile.json.gz to logs/fit_1024_vgg16_latent_space/20230907-114949/train/plugins/profile/2023_09_07_11_50_14/notebook-2589b5e6-3114-42ae-978c-b0dbae0dbf96.memory_profile.json.gz\n",
      "2023-09-07 11:50:14.681435: I tensorflow/python/profiler/internal/profiler_wrapper.cc:111] Creating directory: logs/fit_1024_vgg16_latent_space/20230907-114949/train/plugins/profile/2023_09_07_11_50_14Dumped tool data for xplane.pb to logs/fit_1024_vgg16_latent_space/20230907-114949/train/plugins/profile/2023_09_07_11_50_14/notebook-2589b5e6-3114-42ae-978c-b0dbae0dbf96.xplane.pb\n",
      "Dumped tool data for overview_page.pb to logs/fit_1024_vgg16_latent_space/20230907-114949/train/plugins/profile/2023_09_07_11_50_14/notebook-2589b5e6-3114-42ae-978c-b0dbae0dbf96.overview_page.pb\n",
      "Dumped tool data for input_pipeline.pb to logs/fit_1024_vgg16_latent_space/20230907-114949/train/plugins/profile/2023_09_07_11_50_14/notebook-2589b5e6-3114-42ae-978c-b0dbae0dbf96.input_pipeline.pb\n",
      "Dumped tool data for tensorflow_stats.pb to logs/fit_1024_vgg16_latent_space/20230907-114949/train/plugins/profile/2023_09_07_11_50_14/notebook-2589b5e6-3114-42ae-978c-b0dbae0dbf96.tensorflow_stats.pb\n",
      "Dumped tool data for kernel_stats.pb to logs/fit_1024_vgg16_latent_space/20230907-114949/train/plugins/profile/2023_09_07_11_50_14/notebook-2589b5e6-3114-42ae-978c-b0dbae0dbf96.kernel_stats.pb\n",
      "\n"
     ]
    },
    {
     "name": "stdout",
     "output_type": "stream",
     "text": [
      "20/20 [==============================] - 30s 1s/step - loss: 7051.8804\n",
      "Epoch 2/100\n",
      "20/20 [==============================] - 20s 999ms/step - loss: 4434.1099\n",
      "Epoch 3/100\n",
      "20/20 [==============================] - 20s 998ms/step - loss: 3248.4307\n",
      "Epoch 4/100\n",
      "20/20 [==============================] - 20s 1000ms/step - loss: 2630.7361\n",
      "Epoch 5/100\n",
      "20/20 [==============================] - 20s 997ms/step - loss: 2028.1049\n",
      "Epoch 6/100\n",
      "20/20 [==============================] - 20s 1s/step - loss: 1492.0603\n",
      "Epoch 7/100\n",
      "20/20 [==============================] - 20s 992ms/step - loss: 1170.6682\n",
      "Epoch 8/100\n",
      "20/20 [==============================] - 20s 1s/step - loss: 1002.9670\n",
      "Epoch 9/100\n",
      "20/20 [==============================] - 20s 1s/step - loss: 851.2654\n",
      "Epoch 10/100\n",
      "20/20 [==============================] - 20s 1s/step - loss: 712.1890\n",
      "Epoch 11/100\n",
      "20/20 [==============================] - 20s 994ms/step - loss: 638.0031\n",
      "Epoch 12/100\n",
      "20/20 [==============================] - 20s 997ms/step - loss: 526.6150\n",
      "Epoch 13/100\n",
      "20/20 [==============================] - 20s 996ms/step - loss: 470.0944\n",
      "Epoch 14/100\n",
      "20/20 [==============================] - 20s 997ms/step - loss: 345.2653\n",
      "Epoch 15/100\n",
      "20/20 [==============================] - 20s 993ms/step - loss: 319.5875\n",
      "Epoch 16/100\n",
      "20/20 [==============================] - 20s 990ms/step - loss: 293.0267\n",
      "Epoch 17/100\n",
      "20/20 [==============================] - 20s 992ms/step - loss: 296.0912\n",
      "Epoch 18/100\n",
      "20/20 [==============================] - 20s 1s/step - loss: 259.2397\n",
      "Epoch 19/100\n",
      "20/20 [==============================] - 21s 1s/step - loss: 214.9821\n",
      "Epoch 20/100\n",
      "20/20 [==============================] - 20s 996ms/step - loss: 207.6360\n",
      "Epoch 21/100\n",
      "20/20 [==============================] - 20s 994ms/step - loss: 188.6526\n",
      "Epoch 22/100\n",
      "20/20 [==============================] - 20s 1s/step - loss: 187.9382\n",
      "Epoch 23/100\n",
      "20/20 [==============================] - 20s 998ms/step - loss: 164.5882\n",
      "Epoch 24/100\n",
      "20/20 [==============================] - 20s 995ms/step - loss: 142.1247\n",
      "Epoch 25/100\n",
      "20/20 [==============================] - 20s 998ms/step - loss: 133.6582\n",
      "Epoch 26/100\n",
      "20/20 [==============================] - 20s 999ms/step - loss: 132.1854\n",
      "Epoch 27/100\n",
      "20/20 [==============================] - 20s 990ms/step - loss: 112.9464\n",
      "Epoch 28/100\n",
      "20/20 [==============================] - 20s 997ms/step - loss: 110.4382\n",
      "Epoch 29/100\n",
      "20/20 [==============================] - 20s 1s/step - loss: 107.8561\n",
      "Epoch 30/100\n",
      "20/20 [==============================] - 20s 1s/step - loss: 88.3963\n",
      "Epoch 31/100\n",
      "20/20 [==============================] - 20s 995ms/step - loss: 84.5210\n",
      "Epoch 32/100\n",
      "20/20 [==============================] - 20s 991ms/step - loss: 87.2566\n",
      "Epoch 33/100\n",
      "20/20 [==============================] - 20s 1s/step - loss: 77.0419\n",
      "Epoch 34/100\n",
      "20/20 [==============================] - 20s 994ms/step - loss: 69.2146\n",
      "Epoch 35/100\n",
      "20/20 [==============================] - 20s 1000ms/step - loss: 72.3019\n",
      "Epoch 36/100\n",
      "20/20 [==============================] - 20s 990ms/step - loss: 69.4289\n",
      "Epoch 37/100\n",
      "20/20 [==============================] - 20s 1s/step - loss: 65.1750\n",
      "Epoch 38/100\n",
      "20/20 [==============================] - 20s 997ms/step - loss: 54.6187\n",
      "Epoch 39/100\n",
      "20/20 [==============================] - 20s 995ms/step - loss: 57.6534\n",
      "Epoch 40/100\n",
      "20/20 [==============================] - 20s 995ms/step - loss: 50.6100\n",
      "Epoch 41/100\n",
      "20/20 [==============================] - 20s 1s/step - loss: 50.6980\n",
      "Epoch 42/100\n",
      "20/20 [==============================] - 20s 998ms/step - loss: 45.3475\n",
      "Epoch 43/100\n",
      "20/20 [==============================] - 20s 999ms/step - loss: 46.1157\n",
      "Epoch 44/100\n",
      "20/20 [==============================] - 20s 997ms/step - loss: 46.4559\n",
      "Epoch 45/100\n",
      "20/20 [==============================] - 20s 996ms/step - loss: 38.5147\n",
      "Epoch 46/100\n",
      "20/20 [==============================] - 20s 995ms/step - loss: 39.5769\n",
      "Epoch 47/100\n",
      "20/20 [==============================] - 20s 1000ms/step - loss: 38.5219\n",
      "Epoch 48/100\n",
      "20/20 [==============================] - 20s 994ms/step - loss: 34.0013\n",
      "Epoch 49/100\n",
      "20/20 [==============================] - 20s 998ms/step - loss: 32.8836\n",
      "Epoch 50/100\n",
      "20/20 [==============================] - 20s 1s/step - loss: 33.7895\n",
      "Epoch 51/100\n",
      "20/20 [==============================] - 20s 996ms/step - loss: 30.3064\n",
      "Epoch 52/100\n",
      "20/20 [==============================] - 20s 993ms/step - loss: 28.6896\n",
      "Epoch 53/100\n",
      "20/20 [==============================] - 20s 995ms/step - loss: 25.9418\n",
      "Epoch 54/100\n",
      "20/20 [==============================] - 20s 996ms/step - loss: 28.1234\n",
      "Epoch 55/100\n",
      "20/20 [==============================] - 20s 994ms/step - loss: 28.6703\n",
      "Epoch 56/100\n",
      "20/20 [==============================] - 20s 994ms/step - loss: 26.0203\n",
      "Epoch 57/100\n",
      "20/20 [==============================] - 20s 994ms/step - loss: 25.2551\n",
      "Epoch 58/100\n",
      "20/20 [==============================] - 20s 999ms/step - loss: 25.3485\n",
      "Epoch 59/100\n",
      "20/20 [==============================] - 20s 1s/step - loss: 24.9143\n",
      "Epoch 60/100\n",
      "20/20 [==============================] - 20s 1s/step - loss: 21.9299\n",
      "Epoch 61/100\n",
      "20/20 [==============================] - 20s 996ms/step - loss: 19.8988\n",
      "Epoch 62/100\n",
      "20/20 [==============================] - 20s 994ms/step - loss: 20.1627\n",
      "Epoch 63/100\n",
      "20/20 [==============================] - 20s 993ms/step - loss: 18.9952\n",
      "Epoch 64/100\n",
      "20/20 [==============================] - 20s 997ms/step - loss: 18.2966\n",
      "Epoch 65/100\n",
      "20/20 [==============================] - 20s 996ms/step - loss: 17.6508\n",
      "Epoch 66/100\n",
      "20/20 [==============================] - 20s 994ms/step - loss: 17.0242\n",
      "Epoch 67/100\n",
      "20/20 [==============================] - 20s 1s/step - loss: 18.8441\n",
      "Epoch 68/100\n",
      "20/20 [==============================] - 20s 1s/step - loss: 16.8257\n",
      "Epoch 69/100\n",
      "20/20 [==============================] - 20s 991ms/step - loss: 17.0103\n",
      "Epoch 70/100\n",
      "20/20 [==============================] - 20s 1s/step - loss: 14.1731\n",
      "Epoch 71/100\n",
      "20/20 [==============================] - 20s 1s/step - loss: 14.7330\n",
      "Epoch 72/100\n",
      "20/20 [==============================] - 20s 1s/step - loss: 16.0465\n",
      "Epoch 73/100\n",
      "20/20 [==============================] - 20s 1s/step - loss: 15.7976\n",
      "Epoch 74/100\n",
      "20/20 [==============================] - 20s 998ms/step - loss: 14.6292\n",
      "Epoch 75/100\n",
      "20/20 [==============================] - 20s 994ms/step - loss: 12.2750\n",
      "Epoch 76/100\n",
      "20/20 [==============================] - 20s 996ms/step - loss: 13.2938\n",
      "Epoch 77/100\n",
      "20/20 [==============================] - 20s 995ms/step - loss: 12.0232\n",
      "Epoch 78/100\n",
      "20/20 [==============================] - 20s 1s/step - loss: 12.2669\n",
      "Epoch 79/100\n",
      "20/20 [==============================] - 20s 999ms/step - loss: 11.9956\n",
      "Epoch 80/100\n",
      "20/20 [==============================] - 20s 996ms/step - loss: 11.0330\n",
      "Epoch 81/100\n",
      "20/20 [==============================] - 20s 999ms/step - loss: 10.2871\n",
      "Epoch 82/100\n",
      "20/20 [==============================] - 20s 994ms/step - loss: 10.4839\n",
      "Epoch 83/100\n",
      "20/20 [==============================] - 20s 999ms/step - loss: 10.3340\n",
      "Epoch 84/100\n",
      "20/20 [==============================] - 20s 998ms/step - loss: 10.1397\n",
      "Epoch 85/100\n",
      "20/20 [==============================] - 20s 997ms/step - loss: 8.6064\n",
      "Epoch 86/100\n",
      "20/20 [==============================] - 20s 1s/step - loss: 10.2320\n",
      "Epoch 87/100\n",
      "20/20 [==============================] - 20s 996ms/step - loss: 8.4979\n",
      "Epoch 88/100\n",
      "20/20 [==============================] - 20s 995ms/step - loss: 9.5633\n",
      "Epoch 89/100\n",
      "20/20 [==============================] - 20s 996ms/step - loss: 8.6782\n",
      "Epoch 90/100\n",
      "20/20 [==============================] - 20s 989ms/step - loss: 8.7700\n",
      "Epoch 91/100\n",
      "20/20 [==============================] - 20s 1s/step - loss: 8.8490\n",
      "Epoch 92/100\n",
      "20/20 [==============================] - 20s 998ms/step - loss: 8.0325\n",
      "Epoch 93/100\n",
      "20/20 [==============================] - 20s 995ms/step - loss: 8.0371\n",
      "Epoch 94/100\n",
      "20/20 [==============================] - 20s 997ms/step - loss: 8.0810\n",
      "Epoch 95/100\n",
      "20/20 [==============================] - 20s 993ms/step - loss: 6.8859\n",
      "Epoch 96/100\n",
      "20/20 [==============================] - 22s 1s/step - loss: 7.0414\n",
      "Epoch 97/100\n",
      "20/20 [==============================] - 20s 1s/step - loss: 6.7524\n",
      "Epoch 98/100\n",
      "20/20 [==============================] - 20s 997ms/step - loss: 6.8599\n",
      "Epoch 99/100\n",
      "20/20 [==============================] - 20s 997ms/step - loss: 6.4940\n",
      "Epoch 100/100\n",
      "20/20 [==============================] - 20s 997ms/step - loss: 6.2202\n"
     ]
    }
   ],
   "source": [
    "\n",
    "# Instantiate the data generator\n",
    "# Fit the model\n",
    "history = model.fit(train_generator, epochs=100, steps_per_epoch=20,callbacks=[model_checkpoint_callback,tensorboard_callback])\n",
    "now = datetime.datetime.now()\n",
    "#model.save_weights('model'+now.strftime(\"%Y-%m-%d_%H:%M:%S\")+'.hdf5')\n"
   ]
  },
  {
   "cell_type": "code",
   "execution_count": 17,
   "id": "a4c12a4b-7c5e-4c54-bd92-51b9f4fa768f",
   "metadata": {},
   "outputs": [],
   "source": [
    "now = datetime.datetime.now()\n",
    "model.save_weights('models/model_1024_vgg16_latent_space'+now.strftime(\"%Y-%m-%d_%H:%M:%S\")+'.hdf5')\n"
   ]
  },
  {
   "cell_type": "code",
   "execution_count": null,
   "id": "11a6ab68-7948-45a6-8cc7-b8a6ea7c5f2c",
   "metadata": {},
   "outputs": [],
   "source": []
  },
  {
   "cell_type": "code",
   "execution_count": 21,
   "id": "002d0625-e484-4510-a6dd-0c37b7b7cf76",
   "metadata": {},
   "outputs": [],
   "source": [
    "convolutional_layers = model.layers[:] "
   ]
  },
  {
   "cell_type": "code",
   "execution_count": 22,
   "id": "fa8cb199-24f7-4333-9d93-2f6504779589",
   "metadata": {},
   "outputs": [
    {
     "data": {
      "text/plain": [
       "[<tensorflow.python.keras.engine.input_layer.InputLayer at 0x7fee6c43ec50>,\n",
       " <tensorflow.python.keras.engine.input_layer.InputLayer at 0x7fee6c43eb50>,\n",
       " <tensorflow.python.keras.engine.input_layer.InputLayer at 0x7fee6c3b9910>,\n",
       " <tensorflow.python.keras.engine.functional.Functional at 0x7fee6d046390>,\n",
       " <tensorflow.python.keras.layers.core.Lambda at 0x7fee6c3bfe10>]"
      ]
     },
     "execution_count": 22,
     "metadata": {},
     "output_type": "execute_result"
    }
   ],
   "source": [
    "convolutional_layers"
   ]
  },
  {
   "cell_type": "code",
   "execution_count": 23,
   "id": "ffcd772e-36a1-41db-9922-4b3ca9bbab68",
   "metadata": {},
   "outputs": [],
   "source": [
    "# Assuming model is your compiled Siamese network model\n",
    "convolutional_layers = [layer for layer in model.layers if isinstance(layer, tf.keras.layers.Conv2D)]\n"
   ]
  },
  {
   "cell_type": "code",
   "execution_count": 24,
   "id": "c67db049-febe-49b6-a508-f0848a658ed3",
   "metadata": {},
   "outputs": [
    {
     "data": {
      "text/plain": [
       "[]"
      ]
     },
     "execution_count": 24,
     "metadata": {},
     "output_type": "execute_result"
    }
   ],
   "source": [
    "convolutional_layers"
   ]
  },
  {
   "cell_type": "code",
   "execution_count": 25,
   "id": "ed8b3c88-a62f-4d5e-8bef-642d58709e45",
   "metadata": {},
   "outputs": [],
   "source": [
    "from tensorflow.keras.models import Model\n",
    "\n",
    "def get_convolutional_layers(model):\n",
    "    convolutional_layers = []\n",
    "\n",
    "    for layer in model.layers:\n",
    "        if isinstance(layer, tf.keras.layers.Conv2D):\n",
    "            convolutional_layers.append(layer)\n",
    "        elif isinstance(layer, Model):  # Handle functional sub-models\n",
    "            convolutional_layers.extend(get_convolutional_layers(layer))\n",
    "\n",
    "    return convolutional_layers\n",
    "\n",
    "convolutional_layers = get_convolutional_layers(model)"
   ]
  },
  {
   "cell_type": "code",
   "execution_count": 26,
   "id": "fe6b3ed8-f358-48ea-ba58-3499d124c1ca",
   "metadata": {},
   "outputs": [
    {
     "data": {
      "text/plain": [
       "[<tensorflow.python.keras.layers.convolutional.Conv2D at 0x7fee6d6e8250>,\n",
       " <tensorflow.python.keras.layers.convolutional.Conv2D at 0x7fee6d04db50>,\n",
       " <tensorflow.python.keras.layers.convolutional.Conv2D at 0x7fee6d0a1b10>,\n",
       " <tensorflow.python.keras.layers.convolutional.Conv2D at 0x7fee6d101350>,\n",
       " <tensorflow.python.keras.layers.convolutional.Conv2D at 0x7fee6c44fa10>]"
      ]
     },
     "execution_count": 26,
     "metadata": {},
     "output_type": "execute_result"
    }
   ],
   "source": [
    "convolutional_layers"
   ]
  },
  {
   "cell_type": "code",
   "execution_count": 27,
   "id": "d53065f0-875d-4800-8f8e-29e868cb84b6",
   "metadata": {},
   "outputs": [],
   "source": [
    "import pickle\n"
   ]
  },
  {
   "cell_type": "code",
   "execution_count": null,
   "id": "73cd9bd7-4883-4d8b-bd04-c4daa3a3f032",
   "metadata": {},
   "outputs": [],
   "source": []
  },
  {
   "cell_type": "code",
   "execution_count": null,
   "id": "8378a0af-e0a6-4d8f-84fb-91b4e6eed85d",
   "metadata": {},
   "outputs": [],
   "source": []
  },
  {
   "cell_type": "code",
   "execution_count": 37,
   "id": "db896d26-dd1d-4d3d-93f3-11b6eb974103",
   "metadata": {},
   "outputs": [
    {
     "data": {
      "text/plain": [
       "5"
      ]
     },
     "execution_count": 37,
     "metadata": {},
     "output_type": "execute_result"
    }
   ],
   "source": [
    "len(convolutional_weights)"
   ]
  },
  {
   "cell_type": "code",
   "execution_count": 34,
   "id": "a7e6608f-0be1-4584-9596-c61cb4f25f52",
   "metadata": {},
   "outputs": [],
   "source": [
    "# Extract and save the weights of the convolutional layers\n",
    "convolutional_weights = []\n",
    "for layer in convolutional_layers:\n",
    "    convolutional_weights.append(layer.get_weights())\n",
    "\n",
    "# Save the convolutional weights to a file\n",
    "import pickle\n",
    "with open(\"convolutional_weights.pkl\", \"wb\") as f:\n",
    "    pickle.dump(convolutional_weights, f)"
   ]
  },
  {
   "cell_type": "code",
   "execution_count": 46,
   "id": "cea20349-8440-4982-b8be-10c848cf524c",
   "metadata": {},
   "outputs": [
    {
     "ename": "NameError",
     "evalue": "name 'initialize_base_branch_1024_v2_vector_load' is not defined",
     "output_type": "error",
     "traceback": [
      "\u001b[0;31m---------------------------------------------------------------------------\u001b[0m",
      "\u001b[0;31mNameError\u001b[0m                                 Traceback (most recent call last)",
      "\u001b[0;32m/tmp/ipykernel_119084/3525426717.py\u001b[0m in \u001b[0;36m<module>\u001b[0;34m\u001b[0m\n\u001b[1;32m      5\u001b[0m \u001b[0;34m\u001b[0m\u001b[0m\n\u001b[1;32m      6\u001b[0m \u001b[0;31m# Build the model with the loaded convolutional weights\u001b[0m\u001b[0;34m\u001b[0m\u001b[0;34m\u001b[0m\u001b[0;34m\u001b[0m\u001b[0m\n\u001b[0;32m----> 7\u001b[0;31m \u001b[0mloaded_base_model\u001b[0m \u001b[0;34m=\u001b[0m \u001b[0minitialize_base_branch_1024_v2_vector_load\u001b[0m\u001b[0;34m(\u001b[0m\u001b[0;34m)\u001b[0m\u001b[0;34m\u001b[0m\u001b[0;34m\u001b[0m\u001b[0m\n\u001b[0m\u001b[1;32m      8\u001b[0m \u001b[0;34m\u001b[0m\u001b[0m\n\u001b[1;32m      9\u001b[0m \u001b[0;32mfor\u001b[0m \u001b[0mlayer\u001b[0m\u001b[0;34m,\u001b[0m \u001b[0mweights\u001b[0m \u001b[0;32min\u001b[0m \u001b[0mzip\u001b[0m\u001b[0;34m(\u001b[0m\u001b[0mloaded_base_model\u001b[0m\u001b[0;34m.\u001b[0m\u001b[0mlayers\u001b[0m\u001b[0;34m,\u001b[0m \u001b[0mloaded_convolutional_weights\u001b[0m\u001b[0;34m)\u001b[0m\u001b[0;34m:\u001b[0m\u001b[0;34m\u001b[0m\u001b[0;34m\u001b[0m\u001b[0m\n",
      "\u001b[0;31mNameError\u001b[0m: name 'initialize_base_branch_1024_v2_vector_load' is not defined"
     ]
    }
   ],
   "source": [
    "# Load the saved convolutional weights\n",
    "import pickle\n",
    "with open(\"convolutional_weights.pkl\", \"rb\") as f:\n",
    "    loaded_convolutional_weights = pickle.load(f)\n",
    "\n",
    "# Build the model with the loaded convolutional weights\n",
    "loaded_base_model = initialize_base_branch_1024_v2_vector_load()\n",
    "\n",
    "for layer, weights in zip(loaded_base_model.layers, loaded_convolutional_weights):\n",
    "    if weights:  # Check if weights exist for the layer\n",
    "        layer.set_weights(weights)\n",
    "\n",
    "# Now you can apply Grad-CAM using the loaded model\n",
    "# Follow the Grad-CAM steps I mentioned earlier using loaded_base_model\n",
    "\n"
   ]
  },
  {
   "cell_type": "code",
   "execution_count": null,
   "id": "3ba46bc1-8caa-40e5-8312-ad4ed228bbdd",
   "metadata": {},
   "outputs": [],
   "source": []
  },
  {
   "cell_type": "code",
   "execution_count": null,
   "id": "5bf28166-3798-4501-9a88-793885c2c6ca",
   "metadata": {},
   "outputs": [],
   "source": []
  },
  {
   "cell_type": "code",
   "execution_count": null,
   "id": "33570d9e-3441-4ea2-8768-6ea5f0fdef57",
   "metadata": {},
   "outputs": [],
   "source": []
  },
  {
   "cell_type": "code",
   "execution_count": null,
   "id": "e5f70ba7-25c1-41d5-bdb7-c2f52a5b0d8a",
   "metadata": {},
   "outputs": [],
   "source": []
  },
  {
   "cell_type": "code",
   "execution_count": null,
   "id": "1d1afef0-66c5-477f-aff1-4e600887860d",
   "metadata": {},
   "outputs": [],
   "source": []
  },
  {
   "cell_type": "code",
   "execution_count": null,
   "id": "0adb77a0-4471-4ab6-b872-49fdecd4f0bd",
   "metadata": {},
   "outputs": [],
   "source": []
  },
  {
   "cell_type": "code",
   "execution_count": null,
   "id": "d93b6dcf-3038-40e8-ae3f-0b40ecabaa40",
   "metadata": {},
   "outputs": [],
   "source": []
  },
  {
   "cell_type": "code",
   "execution_count": null,
   "id": "b6cb9f69-1fdb-4bb7-aa05-1917e972d751",
   "metadata": {},
   "outputs": [],
   "source": []
  },
  {
   "cell_type": "code",
   "execution_count": 18,
   "id": "fe8c5e71-a6f9-4661-a5b2-f0ad92a722b2",
   "metadata": {},
   "outputs": [
    {
     "data": {
      "image/png": "[encoded data removed]",
      "text/plain": [
       "<Figure size 640x480 with 1 Axes>"
      ]
     },
     "metadata": {},
     "output_type": "display_data"
    }
   ],
   "source": [
    "# summarize history for loss\n",
    "plt.plot(history.history['loss'])\n",
    "plt.title('Training and Validation Losses',size = 20)\n",
    "plt.ylabel('loss')\n",
    "plt.xlabel('epoch')\n",
    "plt.yscale('log')\n",
    "plt.legend(['train', 'test'], loc='upper right')\n",
    "plt.show()"
   ]
  },
  {
   "cell_type": "code",
   "execution_count": null,
   "id": "d156d92f-3fcf-447d-aedb-eb800b9b531f",
   "metadata": {},
   "outputs": [],
   "source": [
    "# summarize history for loss\n",
    "plt.plot(history.history['loss'])\n",
    "plt.title('Training and Validation Losses',size = 20)\n",
    "plt.ylabel('loss')\n",
    "plt.xlabel('epoch')\n",
    "plt.legend(['train', 'test'], loc='upper right')\n",
    "plt.show()"
   ]
  },
  {
   "cell_type": "code",
   "execution_count": null,
   "id": "c180f29f-c835-4130-8abe-db7f3669bd27",
   "metadata": {},
   "outputs": [],
   "source": []
  },
  {
   "cell_type": "code",
   "execution_count": null,
   "id": "0dc117e7-2702-420f-9dcd-1fa882591ee9",
   "metadata": {},
   "outputs": [],
   "source": []
  },
  {
   "cell_type": "code",
   "execution_count": 25,
   "id": "b7fa5ed5-c015-40be-bd47-1a6e40f502a8",
   "metadata": {},
   "outputs": [
    {
     "data": {
      "image/png": "[encoded data removed]",
      "text/plain": [
       "<Figure size 640x480 with 1 Axes>"
      ]
     },
     "metadata": {},
     "output_type": "display_data"
    }
   ],
   "source": [
    "# summarize history for loss\n",
    "plt.plot(history.history['accuracy'])\n",
    "plt.plot(history.history['val_accuracy'])\n",
    "plt.title('Training and Validation Accuracy',size = 20)\n",
    "plt.ylabel('accuracy')\n",
    "plt.xlabel('epoch')\n",
    "plt.legend(['train', 'test'], loc='upper right')\n",
    "plt.show()"
   ]
  },
  {
   "cell_type": "code",
   "execution_count": 26,
   "id": "8a0f6b5b-2167-42e5-bc0f-3ab962e80ad7",
   "metadata": {},
   "outputs": [
    {
     "ename": "AttributeError",
     "evalue": "'str' object has no attribute 'decode'",
     "output_type": "error",
     "traceback": [
      "\u001b[0;31m---------------------------------------------------------------------------\u001b[0m",
      "\u001b[0;31mAttributeError\u001b[0m                            Traceback (most recent call last)",
      "\u001b[0;32m/tmp/ipykernel_24096/3545462985.py\u001b[0m in \u001b[0;36m<module>\u001b[0;34m\u001b[0m\n\u001b[1;32m      5\u001b[0m \u001b[0mm\u001b[0m \u001b[0;34m=\u001b[0m \u001b[0mbase_model\u001b[0m\u001b[0;34m(\u001b[0m\u001b[0mA\u001b[0m\u001b[0;34m)\u001b[0m\u001b[0;34m\u001b[0m\u001b[0;34m\u001b[0m\u001b[0m\n\u001b[1;32m      6\u001b[0m \u001b[0mtrained_model\u001b[0m \u001b[0;34m=\u001b[0m \u001b[0mModel\u001b[0m\u001b[0;34m(\u001b[0m\u001b[0minputs\u001b[0m\u001b[0;34m=\u001b[0m\u001b[0mA\u001b[0m\u001b[0;34m,\u001b[0m\u001b[0moutputs\u001b[0m\u001b[0;34m=\u001b[0m\u001b[0mm\u001b[0m\u001b[0;34m)\u001b[0m\u001b[0;34m\u001b[0m\u001b[0;34m\u001b[0m\u001b[0m\n\u001b[0;32m----> 7\u001b[0;31m \u001b[0mtrained_model\u001b[0m\u001b[0;34m.\u001b[0m\u001b[0mload_weights\u001b[0m\u001b[0;34m(\u001b[0m\u001b[0;34m\"model.hdf5\"\u001b[0m\u001b[0;34m)\u001b[0m\u001b[0;34m\u001b[0m\u001b[0;34m\u001b[0m\u001b[0m\n\u001b[0m",
      "\u001b[0;32m~/anaconda3/envs/TensorFlow-2.1/lib/python3.7/site-packages/tensorflow_core/python/keras/engine/training.py\u001b[0m in \u001b[0;36mload_weights\u001b[0;34m(self, filepath, by_name, skip_mismatch)\u001b[0m\n\u001b[1;32m    232\u001b[0m         raise ValueError('Load weights is not yet supported with TPUStrategy '\n\u001b[1;32m    233\u001b[0m                          'with steps_per_run greater than 1.')\n\u001b[0;32m--> 234\u001b[0;31m     \u001b[0;32mreturn\u001b[0m \u001b[0msuper\u001b[0m\u001b[0;34m(\u001b[0m\u001b[0mModel\u001b[0m\u001b[0;34m,\u001b[0m \u001b[0mself\u001b[0m\u001b[0;34m)\u001b[0m\u001b[0;34m.\u001b[0m\u001b[0mload_weights\u001b[0m\u001b[0;34m(\u001b[0m\u001b[0mfilepath\u001b[0m\u001b[0;34m,\u001b[0m \u001b[0mby_name\u001b[0m\u001b[0;34m,\u001b[0m \u001b[0mskip_mismatch\u001b[0m\u001b[0;34m)\u001b[0m\u001b[0;34m\u001b[0m\u001b[0;34m\u001b[0m\u001b[0m\n\u001b[0m\u001b[1;32m    235\u001b[0m \u001b[0;34m\u001b[0m\u001b[0m\n\u001b[1;32m    236\u001b[0m   \u001b[0;34m@\u001b[0m\u001b[0mtrackable\u001b[0m\u001b[0;34m.\u001b[0m\u001b[0mno_automatic_dependency_tracking\u001b[0m\u001b[0;34m\u001b[0m\u001b[0;34m\u001b[0m\u001b[0m\n",
      "\u001b[0;32m~/anaconda3/envs/TensorFlow-2.1/lib/python3.7/site-packages/tensorflow_core/python/keras/engine/network.py\u001b[0m in \u001b[0;36mload_weights\u001b[0;34m(self, filepath, by_name, skip_mismatch)\u001b[0m\n\u001b[1;32m   1220\u001b[0m             f, self.layers, skip_mismatch=skip_mismatch)\n\u001b[1;32m   1221\u001b[0m       \u001b[0;32melse\u001b[0m\u001b[0;34m:\u001b[0m\u001b[0;34m\u001b[0m\u001b[0;34m\u001b[0m\u001b[0m\n\u001b[0;32m-> 1222\u001b[0;31m         \u001b[0mhdf5_format\u001b[0m\u001b[0;34m.\u001b[0m\u001b[0mload_weights_from_hdf5_group\u001b[0m\u001b[0;34m(\u001b[0m\u001b[0mf\u001b[0m\u001b[0;34m,\u001b[0m \u001b[0mself\u001b[0m\u001b[0;34m.\u001b[0m\u001b[0mlayers\u001b[0m\u001b[0;34m)\u001b[0m\u001b[0;34m\u001b[0m\u001b[0;34m\u001b[0m\u001b[0m\n\u001b[0m\u001b[1;32m   1223\u001b[0m \u001b[0;34m\u001b[0m\u001b[0m\n\u001b[1;32m   1224\u001b[0m   \u001b[0;32mdef\u001b[0m \u001b[0m_updated_config\u001b[0m\u001b[0;34m(\u001b[0m\u001b[0mself\u001b[0m\u001b[0;34m)\u001b[0m\u001b[0;34m:\u001b[0m\u001b[0;34m\u001b[0m\u001b[0;34m\u001b[0m\u001b[0m\n",
      "\u001b[0;32m~/anaconda3/envs/TensorFlow-2.1/lib/python3.7/site-packages/tensorflow_core/python/keras/saving/hdf5_format.py\u001b[0m in \u001b[0;36mload_weights_from_hdf5_group\u001b[0;34m(f, layers)\u001b[0m\n\u001b[1;32m    649\u001b[0m   \"\"\"\n\u001b[1;32m    650\u001b[0m   \u001b[0;32mif\u001b[0m \u001b[0;34m'keras_version'\u001b[0m \u001b[0;32min\u001b[0m \u001b[0mf\u001b[0m\u001b[0;34m.\u001b[0m\u001b[0mattrs\u001b[0m\u001b[0;34m:\u001b[0m\u001b[0;34m\u001b[0m\u001b[0;34m\u001b[0m\u001b[0m\n\u001b[0;32m--> 651\u001b[0;31m     \u001b[0moriginal_keras_version\u001b[0m \u001b[0;34m=\u001b[0m \u001b[0mf\u001b[0m\u001b[0;34m.\u001b[0m\u001b[0mattrs\u001b[0m\u001b[0;34m[\u001b[0m\u001b[0;34m'keras_version'\u001b[0m\u001b[0;34m]\u001b[0m\u001b[0;34m.\u001b[0m\u001b[0mdecode\u001b[0m\u001b[0;34m(\u001b[0m\u001b[0;34m'utf8'\u001b[0m\u001b[0;34m)\u001b[0m\u001b[0;34m\u001b[0m\u001b[0;34m\u001b[0m\u001b[0m\n\u001b[0m\u001b[1;32m    652\u001b[0m   \u001b[0;32melse\u001b[0m\u001b[0;34m:\u001b[0m\u001b[0;34m\u001b[0m\u001b[0;34m\u001b[0m\u001b[0m\n\u001b[1;32m    653\u001b[0m     \u001b[0moriginal_keras_version\u001b[0m \u001b[0;34m=\u001b[0m \u001b[0;34m'1'\u001b[0m\u001b[0;34m\u001b[0m\u001b[0;34m\u001b[0m\u001b[0m\n",
      "\u001b[0;31mAttributeError\u001b[0m: 'str' object has no attribute 'decode'"
     ]
    }
   ],
   "source": [
    "# Using the newly trained model compute the embeddings\n",
    "# for a number images\n",
    "A = Input((imsize,imsize,3))\n",
    "base_model = initialize_base_branch()\n",
    "m = base_model(A)\n",
    "trained_model = Model(inputs=A,outputs=m)\n",
    "trained_model.load_weights(\"model.hdf5\")"
   ]
  },
  {
   "cell_type": "code",
   "execution_count": null,
   "id": "917464be-8f3c-45ab-8f73-b1b6da2854ec",
   "metadata": {},
   "outputs": [],
   "source": []
  },
  {
   "cell_type": "code",
   "execution_count": null,
   "id": "c42c0784-26c7-4106-b5c5-c01921c479d7",
   "metadata": {},
   "outputs": [],
   "source": []
  }
 ],
 "metadata": {
  "kernelspec": {
   "display_name": "TensorFlow-2.1",
   "language": "python",
   "name": "tensorflow-2.1"
  },
  "language_info": {
   "codemirror_mode": {
    "name": "ipython",
    "version": 3
   },
   "file_extension": ".py",
   "mimetype": "text/x-python",
   "name": "python",
   "nbconvert_exporter": "python",
   "pygments_lexer": "ipython3",
   "version": "3.7.10"
  }
 },
 "nbformat": 4,
 "nbformat_minor": 5
}
